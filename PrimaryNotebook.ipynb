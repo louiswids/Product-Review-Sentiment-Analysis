{
 "cells": [
  {
   "cell_type": "markdown",
   "id": "8095052a-ccb5-4600-abae-4bc263670abc",
   "metadata": {},
   "source": [
    "# Pattern Recognition Final Project (Sentiment Analysis)\n",
    "- Louis Widi Anandaputra\n",
    "- Maulana Arya Alambana\n",
    "\n",
    "Data Source : A. Romadhony, S. Al Faraby, R. Rismala, U. N. Wisesty, and A. . . Arifianto, “Sentiment Analysis on a Large Indonesian Product Review Dataset”, J. Inf. Syst. Eng. Bus. Intell., vol. 10, no. 1, pp. 167–178, Feb. 2024."
   ]
  },
  {
   "cell_type": "code",
   "execution_count": 43,
   "id": "588b2241-7e2e-4364-9f31-03167a059788",
   "metadata": {},
   "outputs": [],
   "source": [
    "import swifter\n",
    "\n",
    "import pandas as pd\n",
    "import seaborn as sns\n",
    "import numpy as np\n",
    "import matplotlib.pyplot as plt\n",
    "from Sastrawi.Stemmer.StemmerFactory import StemmerFactory\n",
    "\n",
    "factory = StemmerFactory()\n",
    "stemmer = factory.create_stemmer()\n",
    "\n",
    "import re\n",
    "import nltk\n",
    "import string\n",
    "from nltk.corpus import stopwords\n",
    "from wordcloud import WordCloud\n",
    "\n",
    "from sklearn.svm import SVC\n",
    "from sklearn.model_selection import GridSearchCV, StratifiedKFold,  train_test_split\n",
    "from sklearn.metrics import confusion_matrix, classification_report, ConfusionMatrixDisplay\n",
    "from sklearn.neighbors import KNeighborsClassifier"
   ]
  },
  {
   "cell_type": "markdown",
   "id": "7384e585-b263-4e15-9ac7-76a5aebc895b",
   "metadata": {},
   "source": [
    "# Pre-Processing Function\n",
    "\n",
    "- removing web and internet symbols\n",
    "- removing special characters\n",
    "- removing non-printable texts\n",
    "- removing user-based symbols and elements\n",
    "- removing whitespace and punctuation\n",
    "- stopwords removal in Indonesian language\n",
    "- stemming"
   ]
  },
  {
   "cell_type": "code",
   "execution_count": 35,
   "id": "955c9a4c-b105-49bb-b338-294801cda663",
   "metadata": {},
   "outputs": [],
   "source": [
    "# Fungsi untuk pre-processing text\n",
    "def text_cleaning(text):\n",
    "    \"\"\"\n",
    "    Clean the text using NLP and regular expressions\n",
    "    \n",
    "    text = Uncleaned text\n",
    "    \"\"\"\n",
    "    text = re.sub(r'https?://\\S+|www\\.\\S+', 'URL', text)\n",
    "    text = re.sub(r'<.*?>', '', text)\n",
    "    text = ''.join([char for char in text if char in string.printable])\n",
    "    text = re.sub(r'@\\S+', 'USER', text)\n",
    "    table = str.maketrans('', '', string.punctuation)\n",
    "    text = text.translate(table)\n",
    "    text = ' '.join([word for word in text.split() if word not in stopwords.words(\"indonesian\")])\n",
    "    text = stemmer.stem(text)\n",
    "    return text"
   ]
  },
  {
   "cell_type": "code",
   "execution_count": 59,
   "id": "be16e2a7-8573-4476-93c8-19af69966c32",
   "metadata": {},
   "outputs": [
    {
     "data": {
      "text/html": [
       "<div>\n",
       "<style scoped>\n",
       "    .dataframe tbody tr th:only-of-type {\n",
       "        vertical-align: middle;\n",
       "    }\n",
       "\n",
       "    .dataframe tbody tr th {\n",
       "        vertical-align: top;\n",
       "    }\n",
       "\n",
       "    .dataframe thead th {\n",
       "        text-align: right;\n",
       "    }\n",
       "</style>\n",
       "<table border=\"1\" class=\"dataframe\">\n",
       "  <thead>\n",
       "    <tr style=\"text-align: right;\">\n",
       "      <th></th>\n",
       "      <th>review_text</th>\n",
       "      <th>review_class</th>\n",
       "    </tr>\n",
       "  </thead>\n",
       "  <tbody>\n",
       "    <tr>\n",
       "      <th>0</th>\n",
       "      <td>i want to love it but my skin hate it...sehabi...</td>\n",
       "      <td>neg</td>\n",
       "    </tr>\n",
       "    <tr>\n",
       "      <th>1</th>\n",
       "      <td>lulur sariayu ini salah satu lulur yang makeny...</td>\n",
       "      <td>neg</td>\n",
       "    </tr>\n",
       "    <tr>\n",
       "      <th>2</th>\n",
       "      <td>cushion ini tahan lama dan coveragenya medium....</td>\n",
       "      <td>neg</td>\n",
       "    </tr>\n",
       "    <tr>\n",
       "      <th>3</th>\n",
       "      <td>sun block ini multifungsi bisa digunakan untuk...</td>\n",
       "      <td>pos</td>\n",
       "    </tr>\n",
       "    <tr>\n",
       "      <th>4</th>\n",
       "      <td>facewash ini lembut, bahkan untuk kulit sensit...</td>\n",
       "      <td>pos</td>\n",
       "    </tr>\n",
       "    <tr>\n",
       "      <th>...</th>\n",
       "      <td>...</td>\n",
       "      <td>...</td>\n",
       "    </tr>\n",
       "    <tr>\n",
       "      <th>2995</th>\n",
       "      <td>suka banget banget sama coffee scrub ini! awal...</td>\n",
       "      <td>pos</td>\n",
       "    </tr>\n",
       "    <tr>\n",
       "      <th>2996</th>\n",
       "      <td>suka banget dengan aroma tea tree nya, nyegeri...</td>\n",
       "      <td>neg</td>\n",
       "    </tr>\n",
       "    <tr>\n",
       "      <th>2997</th>\n",
       "      <td>awal pemakaian bb cream ini oke, terlihat menc...</td>\n",
       "      <td>neg</td>\n",
       "    </tr>\n",
       "    <tr>\n",
       "      <th>2998</th>\n",
       "      <td>enak banget lotion ini... sebenernya ini perta...</td>\n",
       "      <td>pos</td>\n",
       "    </tr>\n",
       "    <tr>\n",
       "      <th>2999</th>\n",
       "      <td>drugstore sunscreen yang menurutku sangat bagu...</td>\n",
       "      <td>pos</td>\n",
       "    </tr>\n",
       "  </tbody>\n",
       "</table>\n",
       "<p>3000 rows × 2 columns</p>\n",
       "</div>"
      ],
      "text/plain": [
       "                                            review_text review_class\n",
       "0     i want to love it but my skin hate it...sehabi...          neg\n",
       "1     lulur sariayu ini salah satu lulur yang makeny...          neg\n",
       "2     cushion ini tahan lama dan coveragenya medium....          neg\n",
       "3     sun block ini multifungsi bisa digunakan untuk...          pos\n",
       "4     facewash ini lembut, bahkan untuk kulit sensit...          pos\n",
       "...                                                 ...          ...\n",
       "2995  suka banget banget sama coffee scrub ini! awal...          pos\n",
       "2996  suka banget dengan aroma tea tree nya, nyegeri...          neg\n",
       "2997  awal pemakaian bb cream ini oke, terlihat menc...          neg\n",
       "2998  enak banget lotion ini... sebenernya ini perta...          pos\n",
       "2999  drugstore sunscreen yang menurutku sangat bagu...          pos\n",
       "\n",
       "[3000 rows x 2 columns]"
      ]
     },
     "execution_count": 59,
     "metadata": {},
     "output_type": "execute_result"
    }
   ],
   "source": [
    "df = pd.read_json('sentiment_classification/small_review_bal_test.json', lines = True)\n",
    "df"
   ]
  },
  {
   "cell_type": "code",
   "execution_count": 60,
   "id": "ff549bf1-95a5-4807-90c3-cfec53ce9d67",
   "metadata": {},
   "outputs": [
    {
     "data": {
      "text/plain": [
       "<Axes: xlabel='review_class', ylabel='Count'>"
      ]
     },
     "execution_count": 60,
     "metadata": {},
     "output_type": "execute_result"
    },
    {
     "data": {
      "image/png": "[encoded data removed]",
      "text/plain": [
       "<Figure size 640x480 with 1 Axes>"
      ]
     },
     "metadata": {},
     "output_type": "display_data"
    }
   ],
   "source": [
    "sns.histplot(df, x = 'review_class', hue = 'review_class')"
   ]
  },
  {
   "cell_type": "markdown",
   "id": "24b87eb1-6534-4922-bb0d-8027ef34ad61",
   "metadata": {},
   "source": [
    "## Initial Process\n",
    "We initially worked with the full data which we undersampled into 18600 but the results below showed bad performance"
   ]
  },
  {
   "cell_type": "code",
   "execution_count": 41,
   "id": "379b1ef4-6ed7-496a-91e1-13209e6cbbe3",
   "metadata": {},
   "outputs": [
    {
     "data": {
      "application/vnd.jupyter.widget-view+json": {
       "model_id": "6918dc44575f46359134dc89108efc87",
       "version_major": 2,
       "version_minor": 0
      },
      "text/plain": [
       "Pandas Apply:   0%|          | 0/18600 [00:00<?, ?it/s]"
      ]
     },
     "metadata": {},
     "output_type": "display_data"
    },
    {
     "name": "stdout",
     "output_type": "stream",
     "text": [
      "CPU times: user 34min 28s, sys: 20.6 s, total: 34min 48s\n",
      "Wall time: 35min 3s\n"
     ]
    }
   ],
   "source": [
    "%%time\n",
    "df['clean_text'] = df['review_text'].swifter.apply(text_cleaning)"
   ]
  },
  {
   "cell_type": "code",
   "execution_count": 43,
   "id": "474fefce-53d7-4a44-be14-afe5bb9e286c",
   "metadata": {},
   "outputs": [
    {
     "data": {
      "text/html": [
       "<div>\n",
       "<style scoped>\n",
       "    .dataframe tbody tr th:only-of-type {\n",
       "        vertical-align: middle;\n",
       "    }\n",
       "\n",
       "    .dataframe tbody tr th {\n",
       "        vertical-align: top;\n",
       "    }\n",
       "\n",
       "    .dataframe thead th {\n",
       "        text-align: right;\n",
       "    }\n",
       "</style>\n",
       "<table border=\"1\" class=\"dataframe\">\n",
       "  <thead>\n",
       "    <tr style=\"text-align: right;\">\n",
       "      <th></th>\n",
       "      <th>clean_text</th>\n",
       "    </tr>\n",
       "  </thead>\n",
       "  <tbody>\n",
       "    <tr>\n",
       "      <th>0</th>\n",
       "      <td>tekstur ringan banget cocok ajar kulit wajah j...</td>\n",
       "    </tr>\n",
       "    <tr>\n",
       "      <th>1</th>\n",
       "      <td>untung coba counternya liat kaya cahaya ilahi ...</td>\n",
       "    </tr>\n",
       "    <tr>\n",
       "      <th>2</th>\n",
       "      <td>dipake muka tu sensai hangat gitu hangat panas...</td>\n",
       "    </tr>\n",
       "    <tr>\n",
       "      <th>3</th>\n",
       "      <td>look natural blendnya nyatu kulitso kyuteee an...</td>\n",
       "    </tr>\n",
       "    <tr>\n",
       "      <th>4</th>\n",
       "      <td>facial wash pake tube berapa udah nggak tau ha...</td>\n",
       "    </tr>\n",
       "    <tr>\n",
       "      <th>...</th>\n",
       "      <td>...</td>\n",
       "    </tr>\n",
       "    <tr>\n",
       "      <th>18595</th>\n",
       "      <td>kaya pressed palettepowdernya body shop yg kay...</td>\n",
       "    </tr>\n",
       "    <tr>\n",
       "      <th>18596</th>\n",
       "      <td>warna gelap skintone kesan kulit kusam gitu te...</td>\n",
       "    </tr>\n",
       "    <tr>\n",
       "      <th>18597</th>\n",
       "      <td>wajah no toner inisedih tu liat org org cocok ...</td>\n",
       "    </tr>\n",
       "    <tr>\n",
       "      <th>18598</th>\n",
       "      <td>nya beli warna nya cantikcantik gak banyakbany...</td>\n",
       "    </tr>\n",
       "    <tr>\n",
       "      <th>18599</th>\n",
       "      <td>suak produk karna wangi ngingetin banget perme...</td>\n",
       "    </tr>\n",
       "  </tbody>\n",
       "</table>\n",
       "<p>18600 rows × 1 columns</p>\n",
       "</div>"
      ],
      "text/plain": [
       "                                              clean_text\n",
       "0      tekstur ringan banget cocok ajar kulit wajah j...\n",
       "1      untung coba counternya liat kaya cahaya ilahi ...\n",
       "2      dipake muka tu sensai hangat gitu hangat panas...\n",
       "3      look natural blendnya nyatu kulitso kyuteee an...\n",
       "4      facial wash pake tube berapa udah nggak tau ha...\n",
       "...                                                  ...\n",
       "18595  kaya pressed palettepowdernya body shop yg kay...\n",
       "18596  warna gelap skintone kesan kulit kusam gitu te...\n",
       "18597  wajah no toner inisedih tu liat org org cocok ...\n",
       "18598  nya beli warna nya cantikcantik gak banyakbany...\n",
       "18599  suak produk karna wangi ngingetin banget perme...\n",
       "\n",
       "[18600 rows x 1 columns]"
      ]
     },
     "execution_count": 43,
     "metadata": {},
     "output_type": "execute_result"
    }
   ],
   "source": [
    "df_used = df_balanced[['clean_text']]\n",
    "df_used"
   ]
  },
  {
   "cell_type": "code",
   "execution_count": 44,
   "id": "619e9fbc-59a0-4d7d-ac49-1fa3cc24f8e8",
   "metadata": {},
   "outputs": [],
   "source": [
    "# Import tf-idf encoding from sklearn library\n",
    "from sklearn.feature_extraction.text import TfidfVectorizer\n",
    "\n",
    "# Define some hiperparameters of encoded\n",
    "vectorizer = TfidfVectorizer(max_features=2000000, ngram_range = (1,3))\n",
    "\n",
    "# Create the training set with the words encoded as features of the reviews\n",
    "train_data_features = vectorizer.fit_transform(df_used['clean_text'])\n"
   ]
  },
  {
   "cell_type": "code",
   "execution_count": 45,
   "id": "cece64e4-66fe-40a5-9cdc-af0bb34472aa",
   "metadata": {},
   "outputs": [
    {
     "name": "stdout",
     "output_type": "stream",
     "text": [
      "(18600, 892949)\n"
     ]
    }
   ],
   "source": [
    "print(train_data_features.shape)"
   ]
  },
  {
   "cell_type": "code",
   "execution_count": 56,
   "id": "fae309c5-70b6-4ada-aba8-0b14d868701d",
   "metadata": {},
   "outputs": [],
   "source": [
    "X = train_data_features \n",
    "y = df_balanced['review_class']\n",
    "X_train, X_test, y_train, y_test = train_test_split(X, y, test_size = 0.2, random_state = 42)"
   ]
  },
  {
   "cell_type": "code",
   "execution_count": 11,
   "id": "61346f0f-6286-4660-b80a-cea4cefc96df",
   "metadata": {},
   "outputs": [],
   "source": [
    "kfold = StratifiedKFold( n_splits = 5)"
   ]
  },
  {
   "cell_type": "code",
   "execution_count": 51,
   "id": "6e15ec19-aeda-49a7-8bac-ef55e19b0a01",
   "metadata": {},
   "outputs": [
    {
     "name": "stdout",
     "output_type": "stream",
     "text": [
      "Fitting 5 folds for each of 12 candidates, totalling 60 fits\n",
      "{'C': 1, 'kernel': 'linear'}\n"
     ]
    }
   ],
   "source": [
    "#SVC\n",
    "\n",
    "params_grid_svc = [{'kernel': ['rbf'], 'gamma': [1e-3, 1e-4],\n",
    "                     'C': [1, 10, 100, 1000]},\n",
    "                    {'kernel': ['linear'], 'C': [1, 10, 100, 1000]}]\n",
    "\n",
    "\n",
    "gs_sv = GridSearchCV(SVC(), param_grid = params_grid_svc, verbose = 1, cv = kfold, n_jobs = -1, scoring = 'f1_macro')\n",
    "gs_sv.fit(X_train, y_train)\n",
    "gs_sv_best = gs_sv.best_estimator_\n",
    "print(gs_sv.best_params_)"
   ]
  },
  {
   "cell_type": "code",
   "execution_count": 52,
   "id": "2ddde7dc-4a93-4f2b-82e7-4751667323bb",
   "metadata": {},
   "outputs": [
    {
     "name": "stdout",
     "output_type": "stream",
     "text": [
      "Best score for training data: 0.5837521038438017 \n",
      "\n",
      "Best C: 1 \n",
      "\n",
      "Best Kernel: linear \n",
      "\n",
      "Best Gamma: scale \n",
      "\n"
     ]
    }
   ],
   "source": [
    "# View the accuracy score\n",
    "print('Best score for training data:', gs_sv.best_score_,\"\\n\") \n",
    "\n",
    "# View the best parameters for the model found using grid search\n",
    "print('Best C:',gs_sv.best_estimator_.C,\"\\n\") \n",
    "print('Best Kernel:',gs_sv.best_estimator_.kernel,\"\\n\")\n",
    "print('Best Gamma:',gs_sv.best_estimator_.gamma,\"\\n\")"
   ]
  },
  {
   "cell_type": "code",
   "execution_count": 54,
   "id": "13ae5976-104e-4d11-9b92-337210e27500",
   "metadata": {},
   "outputs": [],
   "source": [
    "preds_sv = gs_sv.predict(X_test)"
   ]
  },
  {
   "cell_type": "code",
   "execution_count": 57,
   "id": "9a315c5e-3074-47c0-aa40-38ef11982687",
   "metadata": {},
   "outputs": [
    {
     "name": "stdout",
     "output_type": "stream",
     "text": [
      "\n",
      "\n",
      "              precision    recall  f1-score   support\n",
      "\n",
      "         neg       0.63      0.59      0.61      1232\n",
      "         neu       0.47      0.51      0.49      1252\n",
      "         pos       0.64      0.64      0.64      1236\n",
      "\n",
      "    accuracy                           0.58      3720\n",
      "   macro avg       0.58      0.58      0.58      3720\n",
      "weighted avg       0.58      0.58      0.58      3720\n",
      "\n"
     ]
    },
    {
     "data": {
      "text/plain": [
       "<bound method BaseSearchCV.score of GridSearchCV(cv=StratifiedKFold(n_splits=5, random_state=None, shuffle=False),\n",
       "             estimator=SVC(), n_jobs=-1,\n",
       "             param_grid=[{'C': [1, 10, 100, 1000], 'gamma': [0.001, 0.0001],\n",
       "                          'kernel': ['rbf']},\n",
       "                         {'C': [1, 10, 100, 1000], 'kernel': ['linear']}],\n",
       "             scoring='f1_macro', verbose=1)>"
      ]
     },
     "execution_count": 57,
     "metadata": {},
     "output_type": "execute_result"
    },
    {
     "data": {
      "image/png": "[encoded data removed]",
      "text/plain": [
       "<Figure size 640x480 with 2 Axes>"
      ]
     },
     "metadata": {},
     "output_type": "display_data"
    }
   ],
   "source": [
    "sns.heatmap(confusion_matrix(y_test,preds_sv), annot = True)\n",
    "print(\"\\n\")\n",
    "print(classification_report(y_test,preds_sv))\n",
    "\n",
    "gs_sv.score"
   ]
  },
  {
   "cell_type": "code",
   "execution_count": 62,
   "id": "5fa359ed-5c37-416c-8289-90f1be2f0220",
   "metadata": {},
   "outputs": [
    {
     "name": "stdout",
     "output_type": "stream",
     "text": [
      "Fitting 5 folds for each of 14 candidates, totalling 70 fits\n",
      "{'n_neighbors': 29}\n"
     ]
    }
   ],
   "source": [
    "# K-NN Classifier\n",
    "\n",
    "params_grid_knn = [{\n",
    "                     'n_neighbors': [3,5,7,9,11,13,15,17,19,21,23,25,27,29]}]\n",
    "\n",
    "\n",
    "gs_knn = GridSearchCV(KNeighborsClassifier(), param_grid = params_grid_knn, verbose = 1, n_jobs = -1, cv = kfold, scoring = 'accuracy')\n",
    "gs_knn.fit(X_train, y_train)\n",
    "gs_knn_best = gs_knn.best_estimator_\n",
    "print(gs_knn.best_params_)"
   ]
  },
  {
   "cell_type": "code",
   "execution_count": 63,
   "id": "a8239dec-589f-4ad9-925a-3c92f21677a5",
   "metadata": {},
   "outputs": [],
   "source": [
    "preds_knn = gs_knn.predict(X_test)"
   ]
  },
  {
   "cell_type": "code",
   "execution_count": 64,
   "id": "808e36d9-1e97-4101-a176-000572479fbd",
   "metadata": {},
   "outputs": [
    {
     "name": "stdout",
     "output_type": "stream",
     "text": [
      "\n",
      "\n",
      "              precision    recall  f1-score   support\n",
      "\n",
      "         neg       0.49      0.58      0.53      1232\n",
      "         neu       0.43      0.36      0.39      1252\n",
      "         pos       0.54      0.53      0.53      1236\n",
      "\n",
      "    accuracy                           0.49      3720\n",
      "   macro avg       0.49      0.49      0.49      3720\n",
      "weighted avg       0.49      0.49      0.49      3720\n",
      "\n"
     ]
    },
    {
     "data": {
      "text/plain": [
       "<bound method BaseSearchCV.score of GridSearchCV(cv=StratifiedKFold(n_splits=5, random_state=None, shuffle=False),\n",
       "             estimator=SVC(), n_jobs=-1,\n",
       "             param_grid=[{'C': [1, 10, 100, 1000], 'gamma': [0.001, 0.0001],\n",
       "                          'kernel': ['rbf']},\n",
       "                         {'C': [1, 10, 100, 1000], 'kernel': ['linear']}],\n",
       "             scoring='f1_macro', verbose=1)>"
      ]
     },
     "execution_count": 64,
     "metadata": {},
     "output_type": "execute_result"
    },
    {
     "data": {
      "image/png": "[encoded data removed]",
      "text/plain": [
       "<Figure size 640x480 with 2 Axes>"
      ]
     },
     "metadata": {},
     "output_type": "display_data"
    }
   ],
   "source": [
    "sns.heatmap(confusion_matrix(y_test,preds_knn), annot = True)\n",
    "print(\"\\n\")\n",
    "print(classification_report(y_test,preds_knn))\n",
    "\n",
    "gs_sv.score"
   ]
  },
  {
   "cell_type": "markdown",
   "id": "7adadf79-fe7e-49a7-bc16-4e737d27b8a9",
   "metadata": {},
   "source": [
    "## Current Process\n",
    "We then worked with the balanced dataset that has been cleaned using the same method as the one used before from removing url until stemming. This process of using only two classes showed better results."
   ]
  },
  {
   "cell_type": "code",
   "execution_count": 27,
   "id": "6406ae6c-8abf-4a0c-9381-0ac2f184b85d",
   "metadata": {},
   "outputs": [],
   "source": [
    "# df.to_csv('train_cleaned.csv', index = False)\n",
    "# df_test.to_csv('test_cleaned.csv', index = False)"
   ]
  },
  {
   "cell_type": "code",
   "execution_count": 18,
   "id": "d2afb2a6-7b0a-4480-a7cf-c2c1143c29f1",
   "metadata": {},
   "outputs": [],
   "source": [
    "df_train = pd.read_csv('train_cleaned.csv')\n",
    "df_train = df_train[(df_train['review_class'] == 'pos')| (df_train['review_class'] == 'neg') ]"
   ]
  },
  {
   "cell_type": "code",
   "execution_count": 19,
   "id": "dc8c6552-a2f5-4c8e-bf60-48f936d2bb81",
   "metadata": {},
   "outputs": [],
   "source": [
    "df_test = pd.read_csv('test_cleaned.csv')\n",
    "df_test = df_test[(df_test['review_class'] == 'pos')| (df_test['review_class'] == 'neg') ]"
   ]
  },
  {
   "cell_type": "code",
   "execution_count": 20,
   "id": "64cb17e1-356e-4582-9e1c-a246e59cf09d",
   "metadata": {},
   "outputs": [],
   "source": [
    "X_train = df_train['clean_text']\n",
    "y_train = df_train['review_class']\n",
    "\n",
    "X_test = df_test['clean_text']\n",
    "y_test = df_test['review_class']"
   ]
  },
  {
   "cell_type": "code",
   "execution_count": 21,
   "id": "c60d2808-2945-44a1-ba7c-8468c38622de",
   "metadata": {},
   "outputs": [],
   "source": [
    "from sklearn.feature_extraction.text import TfidfVectorizer\n",
    "\n",
    "# Define some hiperparameters of encoded\n",
    "vectorizer2 = TfidfVectorizer(max_features=2000000, ngram_range = (1,3))\n",
    "\n",
    "# Create the training set with the words encoded as features of the reviews\n",
    "X_train = vectorizer2.fit_transform(X_train)"
   ]
  },
  {
   "cell_type": "code",
   "execution_count": 37,
   "id": "9a2600d7-0ecf-4633-b79d-41ec7e807381",
   "metadata": {},
   "outputs": [
    {
     "data": {
      "text/plain": [
       "(9600, 496373)"
      ]
     },
     "execution_count": 37,
     "metadata": {},
     "output_type": "execute_result"
    }
   ],
   "source": [
    "X_train.shape"
   ]
  },
  {
   "cell_type": "code",
   "execution_count": 22,
   "id": "4ca593e1-7575-4f7a-ab4c-5dbee35dd961",
   "metadata": {},
   "outputs": [],
   "source": [
    "X_test = vectorizer2.transform(X_test)"
   ]
  },
  {
   "cell_type": "code",
   "execution_count": 23,
   "id": "471ecba5-1705-4193-9a68-57e0f3850176",
   "metadata": {},
   "outputs": [
    {
     "name": "stdout",
     "output_type": "stream",
     "text": [
      "Fitting 5 folds for each of 12 candidates, totalling 60 fits\n",
      "{'C': 1, 'kernel': 'linear'}\n"
     ]
    }
   ],
   "source": [
    "#SVC\n",
    "\n",
    "params_grid_svc = [{'kernel': ['rbf'], 'gamma': [1e-3, 1e-4],\n",
    "                     'C': [1, 10, 100, 1000]},\n",
    "                    {'kernel': ['linear'], 'C': [1, 10, 100, 1000]}]\n",
    "\n",
    "\n",
    "gs_sv2 = GridSearchCV(SVC(), param_grid = params_grid_svc, verbose = 1, cv = kfold, n_jobs = -1, scoring = 'f1_macro')\n",
    "gs_sv2.fit(X_train, y_train)\n",
    "gs_sv2_best = gs_sv2.best_estimator_\n",
    "print(gs_sv2.best_params_)"
   ]
  },
  {
   "cell_type": "code",
   "execution_count": 24,
   "id": "5245e921-df73-4a1a-bf7c-12897f8c8dce",
   "metadata": {},
   "outputs": [
    {
     "name": "stdout",
     "output_type": "stream",
     "text": [
      "Best score for training data: 0.8134550430239766 \n",
      "\n",
      "Best C: 1 \n",
      "\n",
      "Best Kernel: linear \n",
      "\n",
      "Best Gamma: scale \n",
      "\n"
     ]
    }
   ],
   "source": [
    "# View the accuracy score\n",
    "print('Best score for training data:', gs_sv2.best_score_,\"\\n\") \n",
    "\n",
    "# View the best parameters for the model found using grid search\n",
    "print('Best C:',gs_sv2.best_estimator_.C,\"\\n\") \n",
    "print('Best Kernel:',gs_sv2.best_estimator_.kernel,\"\\n\")\n",
    "print('Best Gamma:',gs_sv2.best_estimator_.gamma,\"\\n\")"
   ]
  },
  {
   "cell_type": "code",
   "execution_count": 25,
   "id": "7e36ab23-532a-4760-8b0d-494e12df5d4b",
   "metadata": {},
   "outputs": [],
   "source": [
    "preds_svm = gs_sv2.predict(X_test)"
   ]
  },
  {
   "cell_type": "code",
   "execution_count": 45,
   "id": "39277d4a-37ff-435a-b6ef-ced7cb30b061",
   "metadata": {},
   "outputs": [
    {
     "data": {
      "image/png": "[encoded data removed]",
      "text/plain": [
       "<Figure size 640x480 with 2 Axes>"
      ]
     },
     "metadata": {},
     "output_type": "display_data"
    },
    {
     "name": "stdout",
     "output_type": "stream",
     "text": [
      "\n",
      "\n",
      "              precision    recall  f1-score   support\n",
      "\n",
      "         neg       0.89      0.76      0.82      1200\n",
      "         pos       0.79      0.91      0.84      1200\n",
      "\n",
      "    accuracy                           0.83      2400\n",
      "   macro avg       0.84      0.83      0.83      2400\n",
      "weighted avg       0.84      0.83      0.83      2400\n",
      "\n"
     ]
    }
   ],
   "source": [
    "cm = confusion_matrix(y_test,preds_svm)\n",
    "disp = ConfusionMatrixDisplay(cm)\n",
    "disp.plot()\n",
    "plt.show()\n",
    "print(\"\\n\")\n",
    "print(classification_report(y_test,preds_svm))\n"
   ]
  },
  {
   "cell_type": "code",
   "execution_count": 28,
   "id": "3a5a7b74-abc6-46c6-9015-6e19c7cd2e85",
   "metadata": {},
   "outputs": [
    {
     "name": "stdout",
     "output_type": "stream",
     "text": [
      "Fitting 5 folds for each of 14 candidates, totalling 70 fits\n",
      "{'n_neighbors': 29}\n"
     ]
    }
   ],
   "source": [
    "# K-NN Classifier\n",
    "\n",
    "params_grid_knn = [{'n_neighbors': [3,5,7,9,11,13,15,17,19,21,23,25,27,29]}]\n",
    "\n",
    "\n",
    "gs_knn2 = GridSearchCV(KNeighborsClassifier(), param_grid = params_grid_knn, verbose = 1, n_jobs = -1, cv = kfold, scoring = 'accuracy')\n",
    "gs_knn2.fit(X_train, y_train)\n",
    "gs_knn_best2 = gs_knn2.best_estimator_\n",
    "print(gs_knn2.best_params_)"
   ]
  },
  {
   "cell_type": "code",
   "execution_count": 64,
   "id": "e9ca4aa4-1e00-4ac4-a680-789f109d19cc",
   "metadata": {},
   "outputs": [
    {
     "name": "stdout",
     "output_type": "stream",
     "text": [
      "Best score for training data: 0.7430208333333334 \n",
      "\n",
      "Best n_neighbour: 29 \n",
      "\n"
     ]
    }
   ],
   "source": [
    "# View the accuracy score\n",
    "print('Best score for training data:', gs_knn2.best_score_,\"\\n\") \n",
    "\n",
    "# View the best parameters for the model found using grid search\n",
    "print('Best n_neighbour:',gs_knn2.best_estimator_.n_neighbors,\"\\n\") "
   ]
  },
  {
   "cell_type": "code",
   "execution_count": 29,
   "id": "cef58310-2b1b-46f1-9a7f-fad499ae5fda",
   "metadata": {},
   "outputs": [],
   "source": [
    "preds_knn2 = gs_knn2.predict(X_test)"
   ]
  },
  {
   "cell_type": "code",
   "execution_count": 44,
   "id": "5f5ae9bb-9a15-455c-ad40-07650a0f8fcd",
   "metadata": {},
   "outputs": [
    {
     "data": {
      "image/png": "[encoded data removed]",
      "text/plain": [
       "<Figure size 640x480 with 2 Axes>"
      ]
     },
     "metadata": {},
     "output_type": "display_data"
    },
    {
     "name": "stdout",
     "output_type": "stream",
     "text": [
      "\n",
      "\n",
      "              precision    recall  f1-score   support\n",
      "\n",
      "         neg       0.81      0.67      0.73      1200\n",
      "         pos       0.72      0.85      0.78      1200\n",
      "\n",
      "    accuracy                           0.76      2400\n",
      "   macro avg       0.77      0.76      0.76      2400\n",
      "weighted avg       0.77      0.76      0.76      2400\n",
      "\n"
     ]
    }
   ],
   "source": [
    "cm2 = confusion_matrix(y_test,preds_knn2)\n",
    "disp = ConfusionMatrixDisplay(cm2)\n",
    "disp.plot()\n",
    "plt.show()\n",
    "print(\"\\n\")\n",
    "print(classification_report(y_test,preds_knn2))\n"
   ]
  }
 ],
 "metadata": {
  "kernelspec": {
   "display_name": "Python 3 (ipykernel)",
   "language": "python",
   "name": "python3"
  },
  "language_info": {
   "codemirror_mode": {
    "name": "ipython",
    "version": 3
   },
   "file_extension": ".py",
   "mimetype": "text/x-python",
   "name": "python",
   "nbconvert_exporter": "python",
   "pygments_lexer": "ipython3",
   "version": "3.10.13"
  }
 },
 "nbformat": 4,
 "nbformat_minor": 5
}
